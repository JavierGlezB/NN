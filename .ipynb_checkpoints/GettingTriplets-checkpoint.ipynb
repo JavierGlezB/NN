{
 "cells": [
  {
   "cell_type": "code",
   "execution_count": 1,
   "metadata": {},
   "outputs": [],
   "source": [
    "import numpy as np\n",
    "import h5py\n",
    "import math\n",
    "import random\n",
    "import argparse\n",
    "import pandas as pd"
   ]
  },
  {
   "cell_type": "code",
   "execution_count": 2,
   "metadata": {},
   "outputs": [],
   "source": [
    "# TRIPLETS_NUMBER = 100000\n",
    "# arod = h5py.File('./AROD_HDF/AROD.hdf','r')\n",
    "# IMAGES_NUMBER = len(AROD['IMAGES'])\n",
    "# alpha = 0.3\n",
    "# beta = 0.7\n",
    "# index faves views\n",
    "# labels = f['LABELS'][:]\n",
    "# l = labels[:,1:3]\n",
    "# l[l==1]=2\n",
    "# l[l==0]=2\n",
    "# labels[:,1:3] =l\n",
    "# faves = labels[:,1]\n",
    "# views = labels[:,2]\n",
    "# scores = np.log(faves)/np.log(views)\n",
    "# print scores[179999]"
   ]
  },
  {
   "cell_type": "code",
   "execution_count": 2,
   "metadata": {},
   "outputs": [
    {
     "name": "stdout",
     "output_type": "stream",
     "text": [
      "0 0.00062894821167\n"
     ]
    }
   ],
   "source": [
    "#generate_triplets.py\n",
    "import numpy as np\n",
    "import h5py\n",
    "import math\n",
    "import random\n",
    "import argparse\n",
    "import pandas as pd\n",
    "import time\n",
    "TRIPLETS_NUMBER = 100000\n",
    "arod = h5py.File('./AROD_HDF/AROD.hdf','r')\n",
    "IMAGES_NUMBER = len(arod['IMAGES'])\n",
    "alpha = 0.3\n",
    "beta = 0.7\n",
    "\n",
    "class Triplets():\n",
    "    \n",
    "    def __init__(self, a = 0.3, b = 0.7, triplets_number = 100):\n",
    "        self.height = 224\n",
    "        self.width = 224\n",
    "        self.a = a\n",
    "        self.b = b    \n",
    "        self.triplets = []\n",
    "        self.triplets_number = triplets_number\n",
    "        self.scores = arod['SCORES'][:]\n",
    "        \n",
    "    def generate_triplet(self):\n",
    "        is_valid = False\n",
    "        while (is_valid == False):\n",
    "            a_index = random.randint(0,169999)\n",
    "            p_index = random.randint(0,169999)\n",
    "            n_index = random.randint(0,169999)\n",
    "            a = self.scores[a_index][0]\n",
    "            p = self.scores[p_index][0]\n",
    "            n = self.scores[n_index][0]\n",
    "            is_valid = self.valid_triplet(a,p,n)        \n",
    "        return a,p,n,a_index,p_index,n_index\n",
    "        \n",
    "        \n",
    "        \n",
    "    def valid_triplet(self,a, p, n):\n",
    "        ap = np.abs(a - p)\n",
    "        an = np.abs(a - n)\n",
    "        pn = np.abs(p - n)\n",
    "        if an == 0:\n",
    "            an = 0.00000000001\n",
    "        if pn == 0:\n",
    "            pn = 0.00000000001\n",
    "        if self.a > ap / an:\n",
    "            return False\n",
    "        if self.b < ap / an:\n",
    "            return False\n",
    "        if self.a > ap / pn:\n",
    "            return False\n",
    "        if self.b < ap / pn:\n",
    "            return False\n",
    "        return True\n",
    "    \n",
    "    \n",
    "    def get_required_triplets(self,):\n",
    "        valid_triplets = []\n",
    "        for i in range(self.triplets_number):\n",
    "            t1= time.time()\n",
    "            a,p,n,a_index,p_index,n_index = self.generate_triplet()\n",
    "            triplet = [a_index,p_index,n_index]\n",
    "            self.triplets.append(triplet)\n",
    "            if i % 500 ==0:\n",
    "                t2 = time.time()\n",
    "                print i,t2-t1                \n",
    "                \n",
    "        return self.triplets,self.scores\n",
    "    \n",
    "\n",
    "if __name__ == '__main__':\n",
    "    ds = Triplets(triplets_number = 100)\n",
    "    triplets,scores  = ds.get_required_triplets()\n",
    "    df = pd.DataFrame(triplets)\n",
    "    df.to_csv('triplets.csv')"
   ]
  },
  {
   "cell_type": "code",
   "execution_count": 4,
   "metadata": {},
   "outputs": [],
   "source": []
  },
  {
   "cell_type": "code",
   "execution_count": null,
   "metadata": {},
   "outputs": [],
   "source": []
  },
  {
   "cell_type": "code",
   "execution_count": null,
   "metadata": {},
   "outputs": [],
   "source": []
  }
 ],
 "metadata": {
  "kernelspec": {
   "display_name": "Python 2",
   "language": "python",
   "name": "python2"
  },
  "language_info": {
   "codemirror_mode": {
    "name": "ipython",
    "version": 2
   },
   "file_extension": ".py",
   "mimetype": "text/x-python",
   "name": "python",
   "nbconvert_exporter": "python",
   "pygments_lexer": "ipython2",
   "version": "2.7.12"
  }
 },
 "nbformat": 4,
 "nbformat_minor": 2
}
