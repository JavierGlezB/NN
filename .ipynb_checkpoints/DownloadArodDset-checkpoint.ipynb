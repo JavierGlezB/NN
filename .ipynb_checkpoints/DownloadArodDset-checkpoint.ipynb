{
 "cells": [
  {
   "cell_type": "code",
   "execution_count": 1,
   "metadata": {},
   "outputs": [
    {
     "data": {
      "text/html": [
       "<style>.container { width:95% !important; }</style>"
      ],
      "text/plain": [
       "<IPython.core.display.HTML object>"
      ]
     },
     "metadata": {},
     "output_type": "display_data"
    }
   ],
   "source": [
    "from IPython.core.display import display, HTML\n",
    "display(HTML(\"<style>.container { width:95% !important; }</style>\"))\n",
    "import numpy as np\n",
    "import pandas as pd\n",
    "from PIL import Image\n",
    "import random \n",
    "import matplotlib.pyplot as plt\n",
    "import urllib\n",
    "import cv2\n",
    "import threading\n",
    "import h5py\n",
    "import json"
   ]
  },
  {
   "cell_type": "code",
   "execution_count": 2,
   "metadata": {},
   "outputs": [
    {
     "name": "stdout",
     "output_type": "stream",
     "text": [
      "El dataset Train ya existe\n",
      "El dataset Test ya existe\n",
      "El dataset Validation ya existe\n"
     ]
    }
   ],
   "source": [
    "\n",
    "with open('./RandomImages.json') as json_data:\n",
    "    randomimages = json.load(json_data)['RandomImages']\n",
    " \n",
    "downloadedimagespath = '/media/capptu/e6ac2520-92d9-4158-85f2-ab719a6db66d/AROD/DownloadAROD/downloadedImages.hdf'\n",
    "\n",
    "h = h5py.File(downloadedimagespath,'w')\n",
    "\n",
    "datasetsizes = {'Train':100,'Test':100,'Validation':100}\n",
    "datasets = ['Train','Test','Validation']\n",
    "for dataset in datasets:\n",
    "    try:\n",
    "        lset =  g.create_dataset(dataset,(datasetsizes[dataset],3), dtype = 'uint8')\n",
    "    except:\n",
    "        print 'El dataset ' + dataset + ' ya existe'\n",
    "notFoundPhoto = cv2.resize(cv2.imread('./photo_unavailable.png'),(224,224))\n"
   ]
  },
  {
   "cell_type": "code",
   "execution_count": null,
   "metadata": {},
   "outputs": [],
   "source": [
    "import multiprocessing\n",
    "from multiprocessing import Pool,Manager\n",
    "import time \n",
    "\n",
    "processesNumber = 200\n",
    "successfullyDownloadedImages = []\n",
    "\n",
    "\n",
    "def downloadImage (randomimage,index,images_dict,notFoundPhoto):\n",
    "    \n",
    "    for i in range(3):\n",
    "        try:\n",
    "            resp = urllib.urlopen(randomimage[0])\n",
    "            image = np.asarray(bytearray(resp.read()), dtype=\"uint8\")\n",
    "            image = cv2.imdecode(image, cv2.IMREAD_COLOR)\n",
    "            image = cv2.resize(image, (224,224),interpolation = cv2.INTER_CUBIC)           \n",
    "            cv2.imwrite(randomimage[0]+','+str (randomimage[1]) + ',' + str(randomimage[2]) + ',' + str(randomimage[3]) , image)\n",
    "            error = np.sum((image - notFoundPhoto))/(224*224*3)\n",
    "            image = np.zeros((20,20))\n",
    "            if (error < 5):\n",
    "                image = np.zeros((10,10))\n",
    "            break\n",
    "        except:\n",
    "            image = np.zeros((10,10))\n",
    "            \n",
    "    images_dict[index] = [image,randomimage]\n",
    "\n",
    "\n",
    "    \n",
    "    \n",
    "def GetImageBatch(imageIndex, randomimages, notFoundPhoto):\n",
    "    t1=time.time()\n",
    "    manager = multiprocessing.Manager()\n",
    "    images_dict = manager.dict()\n",
    "    jobs = []\n",
    "    for index in range(imageIndex,imageIndex+processesNumber):\n",
    "        p = multiprocessing.Process(target=downloadImage,\n",
    "                                    args=(randomimages[index],index,\n",
    "                                    images_dict,notFoundPhoto))\n",
    "        jobs.append(p)\n",
    "        p.start()\n",
    "        \n",
    "    for proc in jobs:\n",
    "        proc.join()\n",
    "    #print return_dict.values()  \n",
    "    image_values = images_dict.values()\n",
    "    output = []\n",
    "    for j in range (0,processesNumber):\n",
    "        if np.shape(image_values[j]) != (10,10):\n",
    "            output.append(image_values[j])\n",
    "    t2=time.time()\n",
    "    print \"Finished batch downloading in: \"+ str(t2-t1) +' seconds'\n",
    "    return output"
   ]
  },
  {
   "cell_type": "code",
   "execution_count": null,
   "metadata": {},
   "outputs": [],
   "source": [
    "imageIndex = 0\n",
    "datasetIndex = 0\n",
    "for dataset in datasets:\n",
    "    print dataset\n",
    "    datasetIndex = 0\n",
    "    dset = f[dataset]\n",
    "    lset = g[dataset]\n",
    "    while datasetIndex < datasetsizes[dataset]:\n",
    "        t1=time.time()        \n",
    "        output = GetImageBatch(imageIndex,randomimages,notFoundPhoto)\n",
    "        print 'output length' + str(len(output))\n",
    "        for item in range(len(output)):\n",
    "            if (datasetIndex < datasetsizes[dataset] )  and (np.shape(output[item][0]) !=(10,10)) :\n",
    "                lset[datasetIndex] = np.array([output[item][1][1],output[item][1][2],output[item][1][3]])\n",
    "                successfullyDownloadedImages.append(output[1][1]) \n",
    "                datasetIndex = datasetIndex + 1\n",
    "                if datasetIndex % 100 ==0:\n",
    "                    print 'datasetIndex' + str(datasetIndex) \n",
    "                    print 'imageIndex' + str(imageIndex) \n",
    "        imageIndex = imageIndex + processesNumber \n",
    "        print 'DatasetIndex' + str(datasetIndex)\n",
    "        t2= time.time()\n",
    "        print 'Batch elapsed time' +str(t2 - t1)+'s'"
   ]
  },
  {
   "cell_type": "code",
   "execution_count": null,
   "metadata": {},
   "outputs": [],
   "source": []
  },
  {
   "cell_type": "code",
   "execution_count": null,
   "metadata": {},
   "outputs": [],
   "source": []
  },
  {
   "cell_type": "code",
   "execution_count": null,
   "metadata": {},
   "outputs": [],
   "source": []
  },
  {
   "cell_type": "code",
   "execution_count": null,
   "metadata": {},
   "outputs": [],
   "source": [
    "# f = pd.read_csv('./list.txt',delimiter=';')\n",
    "# imagesInfo = f.values\n",
    "# randomValues = np.random.randint(len(imagesInfo), size=800000)\n",
    "# randomimages ={'RandomImages':[imagesInfo[randomValues[i]].tolist()+[i] for i in range(len(randomValues))]}\n",
    "# import json\n",
    "# with open('RandomImages.json', 'w') as fp:\n",
    "#     json.dump(randomimages, fp)"
   ]
  },
  {
   "cell_type": "code",
   "execution_count": null,
   "metadata": {},
   "outputs": [],
   "source": []
  },
  {
   "cell_type": "code",
   "execution_count": null,
   "metadata": {},
   "outputs": [],
   "source": []
  },
  {
   "cell_type": "code",
   "execution_count": null,
   "metadata": {},
   "outputs": [],
   "source": []
  },
  {
   "cell_type": "code",
   "execution_count": null,
   "metadata": {},
   "outputs": [],
   "source": [
    "resp = urllib.urlopen('https://farm1.staticflickr.com/207/467756448_5d6038ab46_o.jpg')\n",
    "image = np.asarray(bytearray(resp.read()), dtype=\"uint8\")\n",
    "image = cv2.imdecode(image, cv2.IMREAD_COLOR)\n",
    "image = cv2.resize(image, (224,224),interpolation = cv2.INTER_CUBIC)\n",
    "cv2.imwrite('color_img.jpg', image)"
   ]
  },
  {
   "cell_type": "code",
   "execution_count": null,
   "metadata": {},
   "outputs": [],
   "source": []
  },
  {
   "cell_type": "code",
   "execution_count": null,
   "metadata": {},
   "outputs": [],
   "source": []
  }
 ],
 "metadata": {
  "kernelspec": {
   "display_name": "Python 2",
   "language": "python",
   "name": "python2"
  },
  "language_info": {
   "codemirror_mode": {
    "name": "ipython",
    "version": 2
   },
   "file_extension": ".py",
   "mimetype": "text/x-python",
   "name": "python",
   "nbconvert_exporter": "python",
   "pygments_lexer": "ipython2",
   "version": "2.7.12"
  }
 },
 "nbformat": 4,
 "nbformat_minor": 2
}
