{
 "cells": [
  {
   "cell_type": "code",
   "execution_count": 1,
   "metadata": {},
   "outputs": [
    {
     "name": "stderr",
     "output_type": "stream",
     "text": [
      "Using TensorFlow backend.\n"
     ]
    }
   ],
   "source": [
    "import numpy as np\n",
    "import tensorflow as tf\n",
    "import pandas as pd\n",
    "import h5py\n",
    "import random\n",
    "import matplotlib.pyplot as plt\n",
    "import cv2\n",
    "import time \n",
    "import keras.backend as K\n",
    "import keras \n",
    "import json \n",
    "from keras.applications.resnet50 import ResNet50, preprocess_input\n",
    "from keras.utils import plot_model\n",
    "from keras.optimizers import Adam, SGD\n",
    "from keras.losses import mean_absolute_error, categorical_crossentropy,mean_absolute_error\n",
    "from keras.layers import Flatten, Dropout, Dense, GlobalAveragePooling2D, GlobalMaxPooling2D, Lambda, concatenate\n",
    "from keras.models import Input, Model, load_model"
   ]
  },
  {
   "cell_type": "markdown",
   "metadata": {},
   "source": [
    "## Global Parameters"
   ]
  },
  {
   "cell_type": "code",
   "execution_count": 2,
   "metadata": {},
   "outputs": [],
   "source": [
    "TRAINING_SIZE = 100000\n",
    "TESTING_SIZE = 2000\n",
    "VALIDATION_SIZE = 2000\n",
    "\n",
    "TOTAL_IMAGES = 180000\n",
    "IMAGE_SIZE = 224\n",
    "\n",
    "BATCH_SIZE = 8\n",
    "TRIPLET_INDEX = 0\n",
    "\n",
    "ENCODINGS_DIM = 1000"
   ]
  },
  {
   "cell_type": "markdown",
   "metadata": {},
   "source": [
    "## Loading Dataset"
   ]
  },
  {
   "cell_type": "code",
   "execution_count": 3,
   "metadata": {},
   "outputs": [],
   "source": [
    "arod = h5py.File('./AROD_HDF/AROD.hdf','r')\n",
    "triplets = pd.read_csv('./triplets.csv').get_values()[0:TRAINING_SIZE]\n",
    "training_set = triplets[:,1:4]\n",
    "def get_triplet():\n",
    "    global TRIPLET_INDEX\n",
    "    triplet = training_set[TRIPLET_INDEX]\n",
    "    \n",
    "    a = arod['IMAGES'][triplet[0]]\n",
    "    p = arod['IMAGES'][triplet[1]]\n",
    "    n = arod['IMAGES'][triplet[2]]\n",
    "    \n",
    "    sa = arod['SCORES'][triplet[0]][0]        \n",
    "    sp = arod['SCORES'][triplet[1]][0]        \n",
    "    sn = arod['SCORES'][triplet[2]][0]        \n",
    "    TRIPLET_INDEX = TRIPLET_INDEX + 1\n",
    "    if TRIPLET_INDEX > 80000:\n",
    "        TRIPLET_INDEX = 0 \n",
    "    return a, p, n, sa, sp, sn \n",
    "\n",
    "def Generate():\n",
    "    while True:\n",
    "        list_a = []\n",
    "        list_p = []\n",
    "        list_n = []\n",
    "        label = []\n",
    "\n",
    "        for i in range(BATCH_SIZE):\n",
    "            a, p, n, sa, sp, sn = get_triplet()\n",
    "            list_a.append(a)\n",
    "            list_p.append(p)\n",
    "            list_n.append(n)\n",
    "            label.append([sa,sn])\n",
    "            \n",
    "        A = preprocess_input(np.array(list_a, dtype = 'float32'))\n",
    "        B = preprocess_input(np.array(list_p, dtype = 'float32'))\n",
    "        C = preprocess_input(np.array(list_n, dtype = 'float32'))\n",
    "        label = np.array(label,dtype = 'float32')\n",
    "        return [A, B, C], label\n",
    "\n"
   ]
  },
  {
   "cell_type": "markdown",
   "metadata": {},
   "source": [
    "## Loss function\n"
   ]
  },
  {
   "cell_type": "code",
   "execution_count": 4,
   "metadata": {},
   "outputs": [],
   "source": [
    "def identity_loss(y_true, y_pred):\n",
    "    r = y_true[0] - y_pred[0]\n",
    "    #return K.mean(y_pred - 0 * y_true)\n",
    "    return K.sum(y_pred - 0 * y_true,axis=-1)\n",
    "\n",
    "def Le(X):\n",
    "    a, p, n = X\n",
    "    m = 0.2 * 100\n",
    "    loss = K.relu(m + K.sum(K.square(a-p),axis=-1,keepdims=True) - K.sum(K.square(a-n),axis=-1,keepdims=True))\n",
    "    return loss\n",
    "\n",
    "def Ld_1(X):\n",
    "    a, p, n = X\n",
    "    m = 0.3 * 100\n",
    "    loss = K.relu(m+ K.sqrt(K.sum(K.square(a),axis=-1,keepdims=True)) - K.sqrt(K.sum(K.square(n),axis=-1,keepdims=True)))\n",
    "    return loss\n",
    "\n",
    "def triplet_loss(y_true,y_pred):\n",
    "    sa = y_true[0]\n",
    "    sp = y_true[1]\n",
    "    sn = y_true[2]\n",
    "    ld = y_pred[0]\n",
    "    le = y_pred[1]\n",
    "    return (sn - sa)*ld + le\n",
    "\n",
    "\n",
    "def fake_triplet_loss(y_true,y_pred):\n",
    "    sa = y_true[:,0]\n",
    "    sn = y_true[:,1]\n",
    "    #sn = y_true[2]\n",
    "    \n",
    "    le = y_pred[:,0]\n",
    "    ld = y_pred[:,1]\n",
    "    \n",
    "    return (sn - sa)*ld + le"
   ]
  },
  {
   "cell_type": "markdown",
   "metadata": {},
   "source": [
    "## Loading Model"
   ]
  },
  {
   "cell_type": "code",
   "execution_count": 33,
   "metadata": {},
   "outputs": [
    {
     "name": "stdout",
     "output_type": "stream",
     "text": [
      "__________________________________________________________________________________________________\n",
      "Layer (type)                    Output Shape         Param #     Connected to                     \n",
      "==================================================================================================\n",
      "input_10 (InputLayer)           (None, 224, 224, 3)  0                                            \n",
      "__________________________________________________________________________________________________\n",
      "input_11 (InputLayer)           (None, 224, 224, 3)  0                                            \n",
      "__________________________________________________________________________________________________\n",
      "input_12 (InputLayer)           (None, 224, 224, 3)  0                                            \n",
      "__________________________________________________________________________________________________\n",
      "base_model (Model)              (None, 1000)         25636712    input_10[0][0]                   \n",
      "                                                                 input_11[0][0]                   \n",
      "                                                                 input_12[0][0]                   \n",
      "==================================================================================================\n",
      "Total params: 25,636,712\n",
      "Trainable params: 25,583,592\n",
      "Non-trainable params: 53,120\n",
      "__________________________________________________________________________________________________\n"
     ]
    }
   ],
   "source": [
    "def GetBaseModel():\n",
    "    base_model = ResNet50(weights='imagenet', include_top=False)\n",
    "    x = base_model.output\n",
    "    x = GlobalMaxPooling2D()(x)\n",
    "    x = Dropout(0.5)(x)\n",
    "    dense_1 = Dense(ENCODINGS_DIM,activation='sigmoid')(x)\n",
    "    base_model = Model(base_model.input,dense_1, name=\"base_model\")\n",
    "    return base_model\n",
    "\n",
    "def GetModel(base_model):\n",
    "    input_1 = Input((IMAGE_SIZE,IMAGE_SIZE,3))\n",
    "    input_2 = Input((IMAGE_SIZE,IMAGE_SIZE,3))\n",
    "    input_3 = Input((IMAGE_SIZE,IMAGE_SIZE,3))\n",
    "\n",
    "    r1 = base_model(input_1)\n",
    "    r2 = base_model(input_2)\n",
    "    r3= base_model(input_3)\n",
    "\n",
    "    loss_le = Lambda(Le)([r1,r2,r3])\n",
    "    loss_ld1 = Lambda(Ld_1)([r1,r2,r3])\n",
    "    loss = concatenate([loss_le,loss_ld1],axis=-1)\n",
    "    \n",
    "    \n",
    "    trainedModel = Model(inputs=[input_1, input_2, input_3], outputs=loss)\n",
    "    trainedModel.compile(loss=identity_loss, optimizer=Adam(0.000003))\n",
    "    \n",
    "    \n",
    "    \n",
    "    trainedModel.load_weights(filepath='./model.h5')\n",
    "    \n",
    "    \n",
    "    \n",
    "    basemodel_trained_layers = trainedModel.layers[3].layers\n",
    "    testmodel = GetBaseModel()\n",
    "    \n",
    "    for i in range(len(basemodel_trained_layers)):\n",
    "        try:\n",
    "            weights = basemodel_trained_layers[i].get_weights()\n",
    "            testmodel.layers[i].set_weights(weights)\n",
    "            print i\n",
    "        except:\n",
    "            print \"layer \"+str(i) +\" with problems\"\n",
    "    return testmodel\n",
    "\n",
    "\n",
    "def GetModelM(base_model):\n",
    "    input_1 = Input((IMAGE_SIZE,IMAGE_SIZE,3))\n",
    "    input_2 = Input((IMAGE_SIZE,IMAGE_SIZE,3))\n",
    "    input_3 = Input((IMAGE_SIZE,IMAGE_SIZE,3))\n",
    "\n",
    "    r1 = base_model(input_1)\n",
    "    r2 = base_model(input_2)\n",
    "    r3= base_model(input_3)\n",
    "    return Model(inputs=[input_1, input_2, input_3], outputs=[r1,r2,r3])\n",
    "\n",
    "\n",
    "#model = GetModel(GetBaseModel())\n",
    "#model.summary()\n",
    "model = GetModelM(GetBaseModel())\n",
    "model.summary()"
   ]
  },
  {
   "cell_type": "code",
   "execution_count": 8,
   "metadata": {},
   "outputs": [
    {
     "data": {
      "text/plain": [
       "5208"
      ]
     },
     "execution_count": 8,
     "metadata": {},
     "output_type": "execute_result"
    }
   ],
   "source": [
    "62500/12"
   ]
  },
  {
   "cell_type": "code",
   "execution_count": 35,
   "metadata": {},
   "outputs": [
    {
     "name": "stdout",
     "output_type": "stream",
     "text": [
      "\r",
      "8/8 [==============================] - 0s 13ms/step\n"
     ]
    }
   ],
   "source": [
    "[A,B,C],labels = Generate()\n",
    "#scoresvector = model.predict(preprocess_input(np.array(arod['IMAGES'][:10],dtype='float32')),batch_size=32,verbose=1)\n",
    "scoresvector = model.predict([A,B,C],batch_size=32,verbose=1)"
   ]
  },
  {
   "cell_type": "code",
   "execution_count": 36,
   "metadata": {},
   "outputs": [
    {
     "data": {
      "text/plain": [
       "(3, 8, 1000)"
      ]
     },
     "execution_count": 36,
     "metadata": {},
     "output_type": "execute_result"
    }
   ],
   "source": [
    "np.shape(scoresvector)"
   ]
  },
  {
   "cell_type": "code",
   "execution_count": 15,
   "metadata": {},
   "outputs": [],
   "source": [
    "sess = tf.Session()\n",
    "Le_out = sess.run (Le(scoresvector))\n",
    "Ld_out = sess.run (Ld_1(scoresvector))\n"
   ]
  },
  {
   "cell_type": "code",
   "execution_count": 18,
   "metadata": {},
   "outputs": [
    {
     "data": {
      "text/plain": [
       "array([[466.27844],\n",
       "       [548.3136 ],\n",
       "       [226.93726],\n",
       "       [170.0459 ],\n",
       "       [773.86456],\n",
       "       [  0.     ],\n",
       "       [694.9888 ],\n",
       "       [ 89.14661]], dtype=float32)"
      ]
     },
     "execution_count": 18,
     "metadata": {},
     "output_type": "execute_result"
    }
   ],
   "source": [
    "Le_out.c"
   ]
  },
  {
   "cell_type": "code",
   "execution_count": 16,
   "metadata": {},
   "outputs": [
    {
     "data": {
      "text/plain": [
       "array([[18.26286 ],\n",
       "       [36.927013],\n",
       "       [23.853527],\n",
       "       [40.172085],\n",
       "       [28.780113],\n",
       "       [24.47107 ],\n",
       "       [46.731354],\n",
       "       [29.398834]], dtype=float32)"
      ]
     },
     "execution_count": 16,
     "metadata": {},
     "output_type": "execute_result"
    }
   ],
   "source": [
    "Ld_out"
   ]
  },
  {
   "cell_type": "code",
   "execution_count": 17,
   "metadata": {},
   "outputs": [
    {
     "data": {
      "text/plain": [
       "array([[0.4047688 , 0.32029647],\n",
       "       [0.57713735, 0.1084412 ],\n",
       "       [0.17069401, 0.56759614],\n",
       "       [0.36863664, 0.5318241 ],\n",
       "       [0.32091293, 0.5836469 ],\n",
       "       [0.45853236, 0.3518203 ],\n",
       "       [0.31629398, 0.4399937 ],\n",
       "       [0.5551203 , 0.126861  ]], dtype=float32)"
      ]
     },
     "execution_count": 17,
     "metadata": {},
     "output_type": "execute_result"
    }
   ],
   "source": [
    "labels"
   ]
  },
  {
   "cell_type": "code",
   "execution_count": 26,
   "metadata": {},
   "outputs": [],
   "source": [
    "LLL =np.append(Le_out,Ld_out,axis=-1)"
   ]
  },
  {
   "cell_type": "code",
   "execution_count": 28,
   "metadata": {},
   "outputs": [
    {
     "data": {
      "text/plain": [
       "array([[466.27844 ,  18.26286 ],\n",
       "       [548.3136  ,  36.927013],\n",
       "       [226.93726 ,  23.853527],\n",
       "       [170.0459  ,  40.172085],\n",
       "       [773.86456 ,  28.780113],\n",
       "       [  0.      ,  24.47107 ],\n",
       "       [694.9888  ,  46.731354],\n",
       "       [ 89.14661 ,  29.398834]], dtype=float32)"
      ]
     },
     "execution_count": 28,
     "metadata": {},
     "output_type": "execute_result"
    }
   ],
   "source": [
    "LLL"
   ]
  },
  {
   "cell_type": "code",
   "execution_count": null,
   "metadata": {},
   "outputs": [],
   "source": []
  },
  {
   "cell_type": "code",
   "execution_count": 29,
   "metadata": {},
   "outputs": [],
   "source": [
    "fake_triplet_loss_out = fake_triplet_loss(y_true=labels,y_pred=LLL)"
   ]
  },
  {
   "cell_type": "code",
   "execution_count": 30,
   "metadata": {},
   "outputs": [
    {
     "data": {
      "text/plain": [
       "array([464.73575  , 531.00604  , 236.40477  , 176.60149  , 781.4261   ,\n",
       "        -2.6113586, 700.7694   ,  76.55628  ], dtype=float32)"
      ]
     },
     "execution_count": 30,
     "metadata": {},
     "output_type": "execute_result"
    }
   ],
   "source": [
    "fake_triplet_loss_out\n"
   ]
  },
  {
   "cell_type": "code",
   "execution_count": null,
   "metadata": {},
   "outputs": [],
   "source": []
  },
  {
   "cell_type": "code",
   "execution_count": null,
   "metadata": {},
   "outputs": [],
   "source": []
  },
  {
   "cell_type": "code",
   "execution_count": null,
   "metadata": {},
   "outputs": [],
   "source": []
  },
  {
   "cell_type": "code",
   "execution_count": null,
   "metadata": {},
   "outputs": [],
   "source": []
  },
  {
   "cell_type": "code",
   "execution_count": null,
   "metadata": {},
   "outputs": [],
   "source": [
    "scores = np.sum(scoresvector,axis=-1)"
   ]
  },
  {
   "cell_type": "code",
   "execution_count": null,
   "metadata": {},
   "outputs": [],
   "source": [
    "scores"
   ]
  },
  {
   "cell_type": "code",
   "execution_count": null,
   "metadata": {},
   "outputs": [],
   "source": [
    "model.save_weights('./trained_weights.h5py')"
   ]
  },
  {
   "cell_type": "code",
   "execution_count": null,
   "metadata": {},
   "outputs": [],
   "source": [
    "arod['IMAGES'][97192]"
   ]
  },
  {
   "cell_type": "code",
   "execution_count": null,
   "metadata": {},
   "outputs": [],
   "source": [
    "preprocess_input(np.array(arod['IMAGES'][97192],dtype = 'float32'))"
   ]
  },
  {
   "cell_type": "code",
   "execution_count": null,
   "metadata": {},
   "outputs": [],
   "source": [
    "model.summary()"
   ]
  },
  {
   "cell_type": "code",
   "execution_count": 69,
   "metadata": {},
   "outputs": [],
   "source": [
    "def codification_vector_norm (vector):\n",
    "    return np.sqrt(np.sum(np.square(vector),axis=-1))/(1000**.5)"
   ]
  },
  {
   "cell_type": "code",
   "execution_count": 85,
   "metadata": {},
   "outputs": [
    {
     "data": {
      "text/plain": [
       "array([[0.5488429 , 0.5580086 , 0.53882444, 0.53292614, 0.55104905,\n",
       "        0.5455094 , 0.5617372 , 0.54152834],\n",
       "       [0.5500357 , 0.53417504, 0.5392807 , 0.53851026, 0.53978086,\n",
       "        0.5526381 , 0.5585005 , 0.54588455],\n",
       "       [0.5379609 , 0.5435106 , 0.52263916, 0.543875  , 0.53962034,\n",
       "        0.5404179 , 0.52969885, 0.55705744]], dtype=float32)"
      ]
     },
     "execution_count": 85,
     "metadata": {},
     "output_type": "execute_result"
    }
   ],
   "source": [
    "codification_vector_norm(scoresvector)"
   ]
  },
  {
   "cell_type": "code",
   "execution_count": 86,
   "metadata": {},
   "outputs": [
    {
     "data": {
      "text/plain": [
       "(3, 8, 1000)"
      ]
     },
     "execution_count": 86,
     "metadata": {},
     "output_type": "execute_result"
    }
   ],
   "source": [
    "np.shape(scoresvector)"
   ]
  },
  {
   "cell_type": "code",
   "execution_count": null,
   "metadata": {},
   "outputs": [],
   "source": []
  },
  {
   "cell_type": "code",
   "execution_count": null,
   "metadata": {},
   "outputs": [],
   "source": []
  }
 ],
 "metadata": {
  "kernelspec": {
   "display_name": "Python 2",
   "language": "python",
   "name": "python2"
  },
  "language_info": {
   "codemirror_mode": {
    "name": "ipython",
    "version": 2
   },
   "file_extension": ".py",
   "mimetype": "text/x-python",
   "name": "python",
   "nbconvert_exporter": "python",
   "pygments_lexer": "ipython2",
   "version": "2.7.12"
  }
 },
 "nbformat": 4,
 "nbformat_minor": 2
}
