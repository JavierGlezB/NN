{
 "cells": [
  {
   "cell_type": "code",
   "execution_count": 29,
   "metadata": {},
   "outputs": [
    {
     "name": "stdout",
     "output_type": "stream",
     "text": [
      "True\n",
      "True\n",
      "[True, True]\n",
      "Tensor(\"loss_8/global_average_pooling2d_28_loss/Shape:0\", shape=(2,), dtype=int32)\n",
      "Tensor(\"loss_8/global_average_pooling2d_28_loss/Shape_1:0\", shape=(2,), dtype=int32)\n",
      "Tensor(\"loss_8/global_average_pooling2d_29_loss/Shape:0\", shape=(2,), dtype=int32)\n",
      "Tensor(\"loss_8/global_average_pooling2d_29_loss/Shape_1:0\", shape=(2,), dtype=int32)\n",
      "Tensor(\"loss_8/global_average_pooling2d_30_loss/Shape:0\", shape=(2,), dtype=int32)\n",
      "Tensor(\"loss_8/global_average_pooling2d_30_loss/Shape_1:0\", shape=(2,), dtype=int32)\n",
      "Epoch 1/5\n",
      "50/50 [==============================] - 1s 19ms/step - loss: 0.0000e+00 - global_average_pooling2d_28_loss: 0.0000e+00 - global_average_pooling2d_29_loss: 0.0000e+00 - global_average_pooling2d_30_loss: 0.0000e+00 - global_average_pooling2d_28_mean_absolute_error: 3.0218 - global_average_pooling2d_29_mean_absolute_error: 29.0934 - global_average_pooling2d_30_mean_absolute_error: 14.7840\n",
      "Epoch 2/5\n",
      "50/50 [==============================] - 1s 10ms/step - loss: 0.0000e+00 - global_average_pooling2d_28_loss: 0.0000e+00 - global_average_pooling2d_29_loss: 0.0000e+00 - global_average_pooling2d_30_loss: 0.0000e+00 - global_average_pooling2d_28_mean_absolute_error: 3.0218 - global_average_pooling2d_29_mean_absolute_error: 29.0934 - global_average_pooling2d_30_mean_absolute_error: 14.7840\n",
      "Epoch 3/5\n",
      "50/50 [==============================] - 1s 10ms/step - loss: 0.0000e+00 - global_average_pooling2d_28_loss: 0.0000e+00 - global_average_pooling2d_29_loss: 0.0000e+00 - global_average_pooling2d_30_loss: 0.0000e+00 - global_average_pooling2d_28_mean_absolute_error: 3.0218 - global_average_pooling2d_29_mean_absolute_error: 29.0934 - global_average_pooling2d_30_mean_absolute_error: 14.7840\n",
      "Epoch 4/5\n",
      "50/50 [==============================] - 1s 11ms/step - loss: 0.0000e+00 - global_average_pooling2d_28_loss: 0.0000e+00 - global_average_pooling2d_29_loss: 0.0000e+00 - global_average_pooling2d_30_loss: 0.0000e+00 - global_average_pooling2d_28_mean_absolute_error: 3.0218 - global_average_pooling2d_29_mean_absolute_error: 29.0934 - global_average_pooling2d_30_mean_absolute_error: 14.7840\n",
      "Epoch 5/5\n",
      "50/50 [==============================] - 1s 11ms/step - loss: 0.0000e+00 - global_average_pooling2d_28_loss: 0.0000e+00 - global_average_pooling2d_29_loss: 0.0000e+00 - global_average_pooling2d_30_loss: 0.0000e+00 - global_average_pooling2d_28_mean_absolute_error: 3.0218 - global_average_pooling2d_29_mean_absolute_error: 29.0934 - global_average_pooling2d_30_mean_absolute_error: 14.7840\n"
     ]
    }
   ],
   "source": [
    "from keras.layers import Input,Conv2D,GlobalAveragePooling2D,concatenate,Dense\n",
    "from keras.models import Model\n",
    "import keras.backend as K\n",
    "import numpy as np\n",
    "from keras.utils import plot_model\n",
    "from keras.optimizers import Adam\n",
    "from keras.losses import mean_absolute_error\n",
    "import tensorflow as tf\n",
    "\n",
    "m_e = .2\n",
    "m_d = .3\n",
    "\n",
    "def Le(true,pred):    \n",
    "    return m_e + K.sum(K.square(pred[0] - pred[1]),axis=-1) - K.sum(K.square(pred[0] - pred[2]),axis=-1)\n",
    "    \n",
    "def Ld(true,pred):\n",
    "    return 0\n",
    "\n",
    "def Triplet_loss(true,pred):\n",
    "    return 0\n",
    "\n",
    "def myloss(y_true,y_pred): \n",
    "    print tf.shape(y_true)\n",
    "    print tf.shape(y_pred)\n",
    "    return K.square(K.sum(y_pred[0]-y_pred[1],axis=-1)) \n",
    "\n",
    "def create_shared_weights(conv1, conv2,conv3, input_shape):\n",
    "    with K.name_scope(conv1.name):\n",
    "        conv1.build(input_shape)\n",
    "    with K.name_scope(conv2.name):\n",
    "        conv2.build(input_shape)\n",
    "    with K.name_scope(conv3.name):\n",
    "        conv3.build(input_shape)\n",
    "    conv2.kernel = conv1.kernel\n",
    "    conv2.bias = conv1.bias\n",
    "    conv2._trainable_weights = []\n",
    "    conv2._trainable_weights.append(conv2.kernel)\n",
    "    conv2._trainable_weights.append(conv2.bias)\n",
    "    conv3.kernel = conv1.kernel                               \n",
    "    conv3.bias = conv1.bias                      \n",
    "    conv3._trainable_weights = []                \n",
    "    conv3._trainable_weights.append(conv3.kernel)\n",
    "    conv3._trainable_weights.append(conv3.bias)\n",
    " # check if weights are successfully shared\n",
    "input_left = Input(shape=(299, 299, 3))\n",
    "input_center = Input(shape=(299, 299, 3))\n",
    "input_right = Input(shape=(299, 299, 3))\n",
    "\n",
    "\n",
    "leftname = input_left.name\n",
    "centername = input_center.name\n",
    "rightname = input_right.name\n",
    "\n",
    "\n",
    "conv1 = Conv2D(64, 3, padding='same')\n",
    "conv2 = Conv2D(64, 3, padding='valid')\n",
    "conv3 = Conv2D(64, 3, padding='valid')\n",
    "\n",
    "create_shared_weights(conv1, conv2, conv3, input_center._keras_shape)\n",
    "print(conv2.weights == conv1.weights)#True\n",
    "print(conv3.weights == conv1.weights)\n",
    "# check if weights are equal after model fitting\n",
    "left = conv1(input_left)\n",
    "right = conv2(input_right)\n",
    "center = conv3(input_center)\n",
    "\n",
    "left = GlobalAveragePooling2D()(left)\n",
    "right = GlobalAveragePooling2D()(right)\n",
    "center = GlobalAveragePooling2D()(center)\n",
    "\n",
    "oleftname = left.name\n",
    "ocentername = center.name\n",
    "orightname = right.name\n",
    "\n",
    "#merged = concatenate([left, right])\n",
    "#output = Dense(1)(merged)\n",
    "model = Model([input_left,input_right,input_center], [left,right,center])\n",
    "#model.compile(loss='binary_crossentropy', optimizer='adam')\n",
    "\n",
    "IMAGES_NUMBER = 50\n",
    "\n",
    "X = {\n",
    "    leftname[:-2]:10*np.ones((IMAGES_NUMBER, 299, 299, 3)),\n",
    "    centername[:-2]:50*np.ones((IMAGES_NUMBER, 299, 299, 3)),\n",
    "    rightname[:-2]:100*np.ones((IMAGES_NUMBER, 299, 299, 3))\n",
    "    }\n",
    "\n",
    "Y = {\n",
    "    oleftname[:-2]:np.random.random((IMAGES_NUMBER,64)),\n",
    "    ocentername[:-2]:np.random.random((IMAGES_NUMBER,64)),\n",
    "    orightname[:-2]:np.random.random((IMAGES_NUMBER,64))\n",
    "    }\n",
    "\n",
    "#Y = np.random.randint(2, size=5)\n",
    "#model.fit(X, Y)\n",
    "plot_model(model=model,show_layer_names=True,show_shapes=True,to_file='modelWeigthsshared.png')\n",
    "print([np.all(w1 == w2) for w1, w2 in zip(conv1.get_weights(), conv2.get_weights())])\n",
    "model.compile(loss=myloss,\n",
    "              metrics=['mae'],\n",
    "              optimizer=Adam())          \n",
    "history = model.fit(batch_size=4,x=X,y=[np.ones((IMAGES_NUMBER,64)),2*np.ones((IMAGES_NUMBER,64)),3*np.ones((IMAGES_NUMBER,64))],epochs=5)\n"
   ]
  },
  {
   "cell_type": "code",
   "execution_count": 7,
   "metadata": {},
   "outputs": [
    {
     "data": {
      "text/plain": [
       "(3, 50, 64)"
      ]
     },
     "execution_count": 7,
     "metadata": {},
     "output_type": "execute_result"
    }
   ],
   "source": [
    "out1 = model.predict(x=X)\n",
    "np.shape(out1)"
   ]
  },
  {
   "cell_type": "code",
   "execution_count": 12,
   "metadata": {},
   "outputs": [
    {
     "data": {
      "text/plain": [
       "array([[-2.9332733 ,  4.2688212 ,  4.890018  , ...,  4.093476  ,\n",
       "         2.5398412 ,  0.20210178],\n",
       "       [-2.9332733 ,  4.2688212 ,  4.890018  , ...,  4.093476  ,\n",
       "         2.5398412 ,  0.20210178],\n",
       "       [-2.9332733 ,  4.2688212 ,  4.890018  , ...,  4.093476  ,\n",
       "         2.5398412 ,  0.20210178],\n",
       "       ...,\n",
       "       [-2.9332733 ,  4.2688212 ,  4.890018  , ...,  4.093476  ,\n",
       "         2.5398412 ,  0.20210178],\n",
       "       [-2.9332733 ,  4.2688212 ,  4.890018  , ...,  4.093476  ,\n",
       "         2.5398412 ,  0.20210178],\n",
       "       [-2.9332733 ,  4.2688212 ,  4.890018  , ...,  4.093476  ,\n",
       "         2.5398412 ,  0.20210178]], dtype=float32)"
      ]
     },
     "execution_count": 12,
     "metadata": {},
     "output_type": "execute_result"
    }
   ],
   "source": [
    "out1[0]"
   ]
  },
  {
   "cell_type": "code",
   "execution_count": 19,
   "metadata": {},
   "outputs": [
    {
     "name": "stdout",
     "output_type": "stream",
     "text": [
      "50/50 [==============================] - 1s 10ms/step\n"
     ]
    }
   ],
   "source": [
    "yy = [np.ones((IMAGES_NUMBER,64)),2*np.ones((IMAGES_NUMBER,64)),3*np.ones((IMAGES_NUMBER,64))]\n",
    "out = model.evaluate(x=X,y=yy,verbose=1,batch_size=4)"
   ]
  },
  {
   "cell_type": "code",
   "execution_count": 14,
   "metadata": {},
   "outputs": [
    {
     "data": {
      "text/plain": [
       "[0.0, 0.0, 0.0, 0.0, 2.1512229442596436, 21.041837692260742, 10.46918773651123]"
      ]
     },
     "execution_count": 14,
     "metadata": {},
     "output_type": "execute_result"
    }
   ],
   "source": [
    "out"
   ]
  },
  {
   "cell_type": "code",
   "execution_count": 32,
   "metadata": {},
   "outputs": [
    {
     "data": {
      "text/plain": [
       "<function tensorflow.python.ops.gradients_impl.gradients>"
      ]
     },
     "execution_count": 32,
     "metadata": {},
     "output_type": "execute_result"
    }
   ],
   "source": [
    "K.gradients\n",
    "\n",
    "\n"
   ]
  },
  {
   "cell_type": "code",
   "execution_count": 30,
   "metadata": {},
   "outputs": [],
   "source": [
    "# sess = tf.Session()\n",
    "# loss_out = sess.run(Le(out))\n",
    "# sess.close()\n"
   ]
  },
  {
   "cell_type": "code",
   "execution_count": null,
   "metadata": {},
   "outputs": [],
   "source": []
  },
  {
   "cell_type": "code",
   "execution_count": null,
   "metadata": {},
   "outputs": [],
   "source": [
    "\n",
    "\n",
    "\n",
    "\n",
    "\n",
    "\n"
   ]
  },
  {
   "cell_type": "code",
   "execution_count": null,
   "metadata": {},
   "outputs": [],
   "source": []
  }
 ],
 "metadata": {
  "kernelspec": {
   "display_name": "Python 2",
   "language": "python",
   "name": "python2"
  },
  "language_info": {
   "codemirror_mode": {
    "name": "ipython",
    "version": 2
   },
   "file_extension": ".py",
   "mimetype": "text/x-python",
   "name": "python",
   "nbconvert_exporter": "python",
   "pygments_lexer": "ipython2",
   "version": "2.7.12"
  }
 },
 "nbformat": 4,
 "nbformat_minor": 2
}
